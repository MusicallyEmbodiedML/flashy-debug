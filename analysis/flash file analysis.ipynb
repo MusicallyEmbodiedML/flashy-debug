{
 "cells": [
  {
   "cell_type": "code",
   "execution_count": 187,
   "id": "a66eeb08-dc09-4d5e-adc0-add393b1e3bb",
   "metadata": {},
   "outputs": [],
   "source": [
    "from pathlib import Path\n"
   ]
  },
  {
   "cell_type": "code",
   "execution_count": 263,
   "id": "854efe3f-590a-4dce-82e1-b9c025949be0",
   "metadata": {},
   "outputs": [
    {
     "name": "stdout",
     "output_type": "stream",
     "text": [
      "Site 0 has finished successfully.        \n"
     ]
    }
   ],
   "source": [
    "!xflash -o ./test.bin --read-all --target=XCORE-AI-EXPLORER"
   ]
  },
  {
   "cell_type": "code",
   "execution_count": 264,
   "id": "edf8b530-ad3d-4f80-a5fb-169ecfe8699b",
   "metadata": {},
   "outputs": [],
   "source": [
    "data = Path('./test.bin').read_bytes()"
   ]
  },
  {
   "cell_type": "code",
   "execution_count": 265,
   "id": "f6aca7f2-8a87-462c-b0bd-9bcd41842f02",
   "metadata": {},
   "outputs": [
    {
     "data": {
      "text/plain": [
       "2097152"
      ]
     },
     "execution_count": 265,
     "metadata": {},
     "output_type": "execute_result"
    }
   ],
   "source": [
    "pos = data.find(b'MEMLDATA')\n",
    "pos"
   ]
  },
  {
   "cell_type": "code",
   "execution_count": 266,
   "id": "471ddc43-2e03-4edc-b91b-d7ada2cb8ad8",
   "metadata": {},
   "outputs": [
    {
     "data": {
      "text/plain": [
       "4194304"
      ]
     },
     "execution_count": 266,
     "metadata": {},
     "output_type": "execute_result"
    }
   ],
   "source": [
    "len(data)"
   ]
  },
  {
   "cell_type": "code",
   "execution_count": 267,
   "id": "ad63138e-0df8-4ad7-b5f4-48de7d492d59",
   "metadata": {},
   "outputs": [
    {
     "data": {
      "text/plain": [
       "b'MEMLDATA63000000{\"cheese\":\"i11000000\",\"pi\":\"fda0f4940\",\"weights\":[\"fcdccf642\",\"fcdcccc3d\",\"f33338bc1\",\"f00000000\"]}\\xff\\xff\\xff\\xff\\xff\\xff\\xff\\xff\\xff\\xff\\xff\\xff\\xff\\xff\\xff\\xff\\xff\\xff\\xff\\xff\\xff\\xff\\xff\\xff\\xff\\xff\\xff\\xff\\xff\\xff\\xff\\xff\\xff\\xff\\xff\\xff\\xff\\xff\\xff\\xff\\xff\\xff\\xff\\xff\\xff\\xff\\xff\\xff\\xff\\xff\\xff\\xff\\xff\\xff\\xff\\xff\\xff\\xff\\xff\\xff\\xff\\xff\\xff\\xff\\xff\\xff\\xff\\xff\\xff\\xff\\xff\\xff\\xff\\xff\\xff\\xff\\xff\\xff\\xff\\xff\\xff\\xff\\xff\\xff\\xff\\xff\\xff\\xff\\xff\\xff\\xff\\xff\\xff\\xff'"
      ]
     },
     "execution_count": 267,
     "metadata": {},
     "output_type": "execute_result"
    }
   ],
   "source": [
    "data[pos+0:pos+209]"
   ]
  },
  {
   "cell_type": "code",
   "execution_count": 268,
   "id": "a0ffa4ca-0e50-4796-aa03-1683d84eb72a",
   "metadata": {},
   "outputs": [],
   "source": [
    "def hexStrToByte(hexbytes):\n",
    "    return (int(hexbytes[0],16) * 16) + int(hexbytes[1], 16)\n",
    "def getBytesFromHex(hexbytes):\n",
    "    b0 = hexStrToByte(hexbytes[0:2])\n",
    "    b1 = hexStrToByte(hexbytes[2:4])\n",
    "    b2 = hexStrToByte(hexbytes[4:6])\n",
    "    b3 = hexStrToByte(hexbytes[6:8])\n",
    "    return [b0,b1,b2,b3]\n",
    "    \n",
    "def hexToSizeT(hexbytes):\n",
    "    bytes = getBytesFromHex(hexbytes)\n",
    "    print(bytes)\n",
    "    return int.from_bytes(bytes, \"little\", signed=False)\n",
    "    \n"
   ]
  },
  {
   "cell_type": "code",
   "execution_count": 269,
   "id": "e3a6050b-3616-4c13-8816-b83d46e66a95",
   "metadata": {},
   "outputs": [
    {
     "name": "stdout",
     "output_type": "stream",
     "text": [
      "[99, 0, 0, 0]\n"
     ]
    },
    {
     "data": {
      "text/plain": [
       "99"
      ]
     },
     "execution_count": 269,
     "metadata": {},
     "output_type": "execute_result"
    }
   ],
   "source": [
    "lenbytes = data[pos+8:pos+16].decode('ASCII')\n",
    "datalen = hexToSizeT(lenbytes)\n",
    "datalen"
   ]
  },
  {
   "cell_type": "code",
   "execution_count": 270,
   "id": "a164df56-fba0-4602-ab0e-fca86bd8eaa1",
   "metadata": {},
   "outputs": [],
   "source": [
    "import json"
   ]
  },
  {
   "cell_type": "code",
   "execution_count": 271,
   "id": "825d95cf-7f7a-4df9-944f-1c4167726223",
   "metadata": {},
   "outputs": [],
   "source": [
    "js = data[pos+16:pos+16+datalen]"
   ]
  },
  {
   "cell_type": "code",
   "execution_count": 272,
   "id": "ec757719-17d8-4695-a8a4-d481d0dc0765",
   "metadata": {},
   "outputs": [
    {
     "data": {
      "text/plain": [
       "b'{\"cheese\":\"i11000000\",\"pi\":\"fda0f4940\",\"weights\":[\"fcdccf642\",\"fcdcccc3d\",\"f33338bc1\",\"f00000000\"]}'"
      ]
     },
     "execution_count": 272,
     "metadata": {},
     "output_type": "execute_result"
    }
   ],
   "source": [
    "js"
   ]
  },
  {
   "cell_type": "code",
   "execution_count": 273,
   "id": "34a91df5-506f-42ec-92e7-cbec10991022",
   "metadata": {},
   "outputs": [],
   "source": [
    "datastring = js.decode('ASCII')"
   ]
  },
  {
   "cell_type": "code",
   "execution_count": 274,
   "id": "4da178ae-c38f-43c4-99cb-c6ac562b3c3b",
   "metadata": {},
   "outputs": [
    {
     "data": {
      "text/plain": [
       "'{\"cheese\":\"i11000000\",\"pi\":\"fda0f4940\",\"weights\":[\"fcdccf642\",\"fcdcccc3d\",\"f33338bc1\",\"f00000000\"]}'"
      ]
     },
     "execution_count": 274,
     "metadata": {},
     "output_type": "execute_result"
    }
   ],
   "source": [
    "datastring"
   ]
  },
  {
   "cell_type": "code",
   "execution_count": 298,
   "id": "6da217f8-a84d-476c-bde0-fd18343de7a0",
   "metadata": {},
   "outputs": [],
   "source": [
    "obj=json.loads(datastring)"
   ]
  },
  {
   "cell_type": "code",
   "execution_count": 299,
   "id": "c8004db2-6569-4e59-b517-a06efa8e38c3",
   "metadata": {},
   "outputs": [
    {
     "data": {
      "text/plain": [
       "{'cheese': 'i11000000',\n",
       " 'pi': 'fda0f4940',\n",
       " 'weights': ['fcdccf642', 'fcdcccc3d', 'f33338bc1', 'f00000000']}"
      ]
     },
     "execution_count": 299,
     "metadata": {},
     "output_type": "execute_result"
    }
   ],
   "source": [
    "obj"
   ]
  },
  {
   "cell_type": "code",
   "execution_count": 200,
   "id": "0e8b1d48-1e8f-46d0-9f69-9698ae1898b3",
   "metadata": {},
   "outputs": [
    {
     "data": {
      "text/plain": [
       "4"
      ]
     },
     "execution_count": 200,
     "metadata": {},
     "output_type": "execute_result"
    }
   ],
   "source": [
    "len(obj['weights'])"
   ]
  },
  {
   "cell_type": "code",
   "execution_count": 293,
   "id": "069cc880-a470-4584-858c-ab66db4b6003",
   "metadata": {},
   "outputs": [
    {
     "name": "stdout",
     "output_type": "stream",
     "text": [
      "[218, 15, 73, 64]\n"
     ]
    },
    {
     "data": {
      "text/plain": [
       "3.141592502593994"
      ]
     },
     "execution_count": 293,
     "metadata": {},
     "output_type": "execute_result"
    }
   ],
   "source": [
    "def decodeNumber(num):\n",
    "    v=0;\n",
    "    if num[0] == 'i':\n",
    "        numbytes = getBytesFromHex(num[1:])\n",
    "        print(numbytes)\n",
    "        v= int.from_bytes(numbytes, \"little\", signed=True)        \n",
    "    elif num[0] == 'f':\n",
    "        numbytes = getBytesFromHex(num[1:])\n",
    "        print(numbytes)\n",
    "        v= struct.unpack('f', bytes(numbytes))[0]\n",
    "    return v;\n",
    "\n",
    "decodeNumber(obj['pi'])"
   ]
  },
  {
   "cell_type": "code",
   "execution_count": 294,
   "id": "738a8b38-d04d-4576-b6c7-be0994cbc92c",
   "metadata": {},
   "outputs": [
    {
     "name": "stdout",
     "output_type": "stream",
     "text": [
      "[205, 204, 246, 66]\n",
      "[205, 204, 204, 61]\n",
      "[51, 51, 139, 193]\n",
      "[0, 0, 0, 0]\n"
     ]
    },
    {
     "data": {
      "text/plain": [
       "[123.4000015258789, 0.10000000149011612, -17.399999618530273, 0.0]"
      ]
     },
     "execution_count": 294,
     "metadata": {},
     "output_type": "execute_result"
    }
   ],
   "source": [
    "def decodeList(lst):\n",
    "    return [decodeNumber(x) for x in lst]\n",
    "\n",
    "decodeList(obj['weights'])"
   ]
  },
  {
   "cell_type": "code",
   "execution_count": 297,
   "id": "2ae5f2bb-fd8c-4faa-a328-b0bc249b756f",
   "metadata": {},
   "outputs": [],
   "source": [
    "def decodeObject(obj):\n",
    "    for k in obj.keys():\n",
    "        print(obj[k])\n",
    "        if isinstance(obj[k], list):\n",
    "            obj[k] = decodeList(obj[k])\n",
    "        else:\n",
    "            obj[k] =decodeNumber(obj[k])\n"
   ]
  },
  {
   "cell_type": "code",
   "execution_count": 300,
   "id": "9db06303-28be-4644-8d66-63329c16dd52",
   "metadata": {},
   "outputs": [
    {
     "name": "stdout",
     "output_type": "stream",
     "text": [
      "i11000000\n",
      "[17, 0, 0, 0]\n",
      "fda0f4940\n",
      "[218, 15, 73, 64]\n",
      "['fcdccf642', 'fcdcccc3d', 'f33338bc1', 'f00000000']\n",
      "[205, 204, 246, 66]\n",
      "[205, 204, 204, 61]\n",
      "[51, 51, 139, 193]\n",
      "[0, 0, 0, 0]\n"
     ]
    },
    {
     "data": {
      "text/plain": [
       "{'cheese': 17,\n",
       " 'pi': 3.141592502593994,\n",
       " 'weights': [123.4000015258789, 0.10000000149011612, -17.399999618530273, 0.0]}"
      ]
     },
     "execution_count": 300,
     "metadata": {},
     "output_type": "execute_result"
    }
   ],
   "source": [
    "decodeObject(obj)"
   ]
  },
  {
   "cell_type": "code",
   "execution_count": 302,
   "id": "7b891736-46e1-44c5-bdda-f3abababd8a1",
   "metadata": {},
   "outputs": [
    {
     "data": {
      "text/plain": [
       "{'cheese': 17,\n",
       " 'pi': 3.141592502593994,\n",
       " 'weights': [123.4000015258789, 0.10000000149011612, -17.399999618530273, 0.0]}"
      ]
     },
     "execution_count": 302,
     "metadata": {},
     "output_type": "execute_result"
    }
   ],
   "source": [
    "obj"
   ]
  },
  {
   "cell_type": "code",
   "execution_count": null,
   "id": "7703eaa3-a70b-4cef-a44e-2e4fdbb94cb1",
   "metadata": {},
   "outputs": [],
   "source": []
  }
 ],
 "metadata": {
  "kernelspec": {
   "display_name": "Python 3 (ipykernel)",
   "language": "python",
   "name": "python3"
  },
  "language_info": {
   "codemirror_mode": {
    "name": "ipython",
    "version": 3
   },
   "file_extension": ".py",
   "mimetype": "text/x-python",
   "name": "python",
   "nbconvert_exporter": "python",
   "pygments_lexer": "ipython3",
   "version": "3.12.4"
  }
 },
 "nbformat": 4,
 "nbformat_minor": 5
}
